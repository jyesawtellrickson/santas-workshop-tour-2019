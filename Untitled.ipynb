{
 "cells": [
  {
   "cell_type": "markdown",
   "metadata": {},
   "source": [
    "# Santa's Workshop\n",
    "Santa has exciting news! For 100 days before Christmas, he opened up tours to his workshop. Because demand was so strong, and because Santa wanted to make things as fair as possible, he let each of the 5,000 families that will visit the workshop choose a list of dates they'd like to attend the workshop.\n",
    "\n",
    "Now that all the families have sent Santa their preferences, he's realized it's impossible for everyone to get their top picks, so he's decided to provide extra perks for families that don't get their preferences. In addition, Santa's accounting department has told him that, depending on how families are scheduled, there may be some unexpected and hefty costs incurred.\n",
    "\n",
    "Santa needs the help of the Kaggle community to optimize which day each family is assigned to attend the workshop in order to minimize any extra expenses that would cut into next years toy budget! Can you help Santa out?\n",
    "\n"
   ]
  },
  {
   "cell_type": "markdown",
   "metadata": {},
   "source": [
    "## Evaluation\n",
    "The total number of people attending the workshop each day must be between 125 - 300; if even one day is outside these occupancy constraints, the submission will error and will not be scored.\n",
    "\n",
    "Santa provides consolation gifts (of varying value) to families according to their assigned day relative to their preferences. These sum up per family, and the total represents the preferencecost.\n",
    "\n",
    "Santa's accountants have also developed an empirical equation for cost to Santa that arise from many different effects such as reduced shopping in the Gift Shop when it gets too crowded, extra cleaning costs, a very complicated North Pole tax code, etc. This cost in in addition to the consolation gifts Santa provides above, and is defined as:\n",
    "\n",
    "accountingpenalty=∑d=1001(Nd−125)400Nd(12+|Nd−Nd+1|50)\n",
    "\n",
    "where Nd is the occupancy of the current day, and Nd+1 is the occupancy of the previous day (since we're counting backwards from Christmas!). For the initial condition of d=100, N101=N100.\n",
    "\n",
    "To be clear on the above summation, it starts on the date 100 days before Christmas and ends on Christmas Eve.\n",
    "\n",
    "And finally:\n",
    "\n",
    "score=preferencecost+accountingpenalty"
   ]
  },
  {
   "cell_type": "markdown",
   "metadata": {},
   "source": [
    "## Algorithm\n",
    "The problem we're dealing with here is the assignment of positions based on some constraints. This is a great task for a constraint satisifaction problem."
   ]
  },
  {
   "cell_type": "markdown",
   "metadata": {},
   "source": []
  },
  {
   "cell_type": "markdown",
   "metadata": {},
   "source": [
    "## Data\n",
    "Import the data and check, check it out!"
   ]
  },
  {
   "cell_type": "code",
   "execution_count": 13,
   "metadata": {},
   "outputs": [],
   "source": [
    "import pandas as pd\n",
    "import matplotlib.pyplot as plt\n",
    "import seaborn as sns"
   ]
  },
  {
   "cell_type": "code",
   "execution_count": 33,
   "metadata": {},
   "outputs": [],
   "source": [
    "# colors = ['#165B33', '#F8B229', '#EA4630', '#146B3A', '#BB2528']\n",
    "colors = ['#629D45', '#99C64B', '#FEFAF6', '#F9EEDA', '#981E2F']"
   ]
  },
  {
   "cell_type": "code",
   "execution_count": 34,
   "metadata": {},
   "outputs": [
    {
     "data": {
      "text/html": [
       "<div>\n",
       "<style scoped>\n",
       "    .dataframe tbody tr th:only-of-type {\n",
       "        vertical-align: middle;\n",
       "    }\n",
       "\n",
       "    .dataframe tbody tr th {\n",
       "        vertical-align: top;\n",
       "    }\n",
       "\n",
       "    .dataframe thead th {\n",
       "        text-align: right;\n",
       "    }\n",
       "</style>\n",
       "<table border=\"1\" class=\"dataframe\">\n",
       "  <thead>\n",
       "    <tr style=\"text-align: right;\">\n",
       "      <th></th>\n",
       "      <th>choice_0</th>\n",
       "      <th>choice_1</th>\n",
       "      <th>choice_2</th>\n",
       "      <th>choice_3</th>\n",
       "      <th>choice_4</th>\n",
       "      <th>choice_5</th>\n",
       "      <th>choice_6</th>\n",
       "      <th>choice_7</th>\n",
       "      <th>choice_8</th>\n",
       "      <th>choice_9</th>\n",
       "      <th>n_people</th>\n",
       "    </tr>\n",
       "  </thead>\n",
       "  <tbody>\n",
       "    <tr>\n",
       "      <th>count</th>\n",
       "      <td>5000.000000</td>\n",
       "      <td>5000.000000</td>\n",
       "      <td>5000.000000</td>\n",
       "      <td>5000.000000</td>\n",
       "      <td>5000.000000</td>\n",
       "      <td>5000.00000</td>\n",
       "      <td>5000.000000</td>\n",
       "      <td>5000.000000</td>\n",
       "      <td>5000.00000</td>\n",
       "      <td>5000.000000</td>\n",
       "      <td>5000.00000</td>\n",
       "    </tr>\n",
       "    <tr>\n",
       "      <th>mean</th>\n",
       "      <td>40.715000</td>\n",
       "      <td>41.601000</td>\n",
       "      <td>41.194200</td>\n",
       "      <td>41.595000</td>\n",
       "      <td>41.950600</td>\n",
       "      <td>42.63520</td>\n",
       "      <td>41.965000</td>\n",
       "      <td>42.739600</td>\n",
       "      <td>42.33900</td>\n",
       "      <td>42.608200</td>\n",
       "      <td>4.20060</td>\n",
       "    </tr>\n",
       "    <tr>\n",
       "      <th>std</th>\n",
       "      <td>29.054208</td>\n",
       "      <td>29.518375</td>\n",
       "      <td>28.821878</td>\n",
       "      <td>29.094602</td>\n",
       "      <td>29.045049</td>\n",
       "      <td>28.98729</td>\n",
       "      <td>28.711089</td>\n",
       "      <td>28.959156</td>\n",
       "      <td>28.69832</td>\n",
       "      <td>28.116088</td>\n",
       "      <td>1.53272</td>\n",
       "    </tr>\n",
       "    <tr>\n",
       "      <th>min</th>\n",
       "      <td>1.000000</td>\n",
       "      <td>1.000000</td>\n",
       "      <td>1.000000</td>\n",
       "      <td>1.000000</td>\n",
       "      <td>1.000000</td>\n",
       "      <td>1.00000</td>\n",
       "      <td>1.000000</td>\n",
       "      <td>1.000000</td>\n",
       "      <td>1.00000</td>\n",
       "      <td>1.000000</td>\n",
       "      <td>2.00000</td>\n",
       "    </tr>\n",
       "    <tr>\n",
       "      <th>25%</th>\n",
       "      <td>16.000000</td>\n",
       "      <td>16.000000</td>\n",
       "      <td>17.000000</td>\n",
       "      <td>17.000000</td>\n",
       "      <td>17.000000</td>\n",
       "      <td>18.00000</td>\n",
       "      <td>17.000000</td>\n",
       "      <td>18.000000</td>\n",
       "      <td>17.00000</td>\n",
       "      <td>19.000000</td>\n",
       "      <td>3.00000</td>\n",
       "    </tr>\n",
       "    <tr>\n",
       "      <th>50%</th>\n",
       "      <td>38.000000</td>\n",
       "      <td>38.000000</td>\n",
       "      <td>38.000000</td>\n",
       "      <td>39.000000</td>\n",
       "      <td>39.000000</td>\n",
       "      <td>40.00000</td>\n",
       "      <td>39.000000</td>\n",
       "      <td>39.000000</td>\n",
       "      <td>39.00000</td>\n",
       "      <td>39.000000</td>\n",
       "      <td>4.00000</td>\n",
       "    </tr>\n",
       "    <tr>\n",
       "      <th>75%</th>\n",
       "      <td>62.000000</td>\n",
       "      <td>66.000000</td>\n",
       "      <td>63.000000</td>\n",
       "      <td>66.000000</td>\n",
       "      <td>66.000000</td>\n",
       "      <td>66.00000</td>\n",
       "      <td>66.000000</td>\n",
       "      <td>67.000000</td>\n",
       "      <td>66.00000</td>\n",
       "      <td>66.000000</td>\n",
       "      <td>5.00000</td>\n",
       "    </tr>\n",
       "    <tr>\n",
       "      <th>max</th>\n",
       "      <td>100.000000</td>\n",
       "      <td>100.000000</td>\n",
       "      <td>100.000000</td>\n",
       "      <td>100.000000</td>\n",
       "      <td>100.000000</td>\n",
       "      <td>100.00000</td>\n",
       "      <td>100.000000</td>\n",
       "      <td>100.000000</td>\n",
       "      <td>100.00000</td>\n",
       "      <td>100.000000</td>\n",
       "      <td>8.00000</td>\n",
       "    </tr>\n",
       "  </tbody>\n",
       "</table>\n",
       "</div>"
      ],
      "text/plain": [
       "          choice_0     choice_1     choice_2     choice_3     choice_4  \\\n",
       "count  5000.000000  5000.000000  5000.000000  5000.000000  5000.000000   \n",
       "mean     40.715000    41.601000    41.194200    41.595000    41.950600   \n",
       "std      29.054208    29.518375    28.821878    29.094602    29.045049   \n",
       "min       1.000000     1.000000     1.000000     1.000000     1.000000   \n",
       "25%      16.000000    16.000000    17.000000    17.000000    17.000000   \n",
       "50%      38.000000    38.000000    38.000000    39.000000    39.000000   \n",
       "75%      62.000000    66.000000    63.000000    66.000000    66.000000   \n",
       "max     100.000000   100.000000   100.000000   100.000000   100.000000   \n",
       "\n",
       "         choice_5     choice_6     choice_7    choice_8     choice_9  \\\n",
       "count  5000.00000  5000.000000  5000.000000  5000.00000  5000.000000   \n",
       "mean     42.63520    41.965000    42.739600    42.33900    42.608200   \n",
       "std      28.98729    28.711089    28.959156    28.69832    28.116088   \n",
       "min       1.00000     1.000000     1.000000     1.00000     1.000000   \n",
       "25%      18.00000    17.000000    18.000000    17.00000    19.000000   \n",
       "50%      40.00000    39.000000    39.000000    39.00000    39.000000   \n",
       "75%      66.00000    66.000000    67.000000    66.00000    66.000000   \n",
       "max     100.00000   100.000000   100.000000   100.00000   100.000000   \n",
       "\n",
       "         n_people  \n",
       "count  5000.00000  \n",
       "mean      4.20060  \n",
       "std       1.53272  \n",
       "min       2.00000  \n",
       "25%       3.00000  \n",
       "50%       4.00000  \n",
       "75%       5.00000  \n",
       "max       8.00000  "
      ]
     },
     "execution_count": 34,
     "metadata": {},
     "output_type": "execute_result"
    }
   ],
   "source": [
    "data = pd.read_csv('data/family_data.csv', index_col='family_id')\n",
    "data.describe()"
   ]
  },
  {
   "cell_type": "code",
   "execution_count": 35,
   "metadata": {},
   "outputs": [
    {
     "data": {
      "text/html": [
       "<div>\n",
       "<style scoped>\n",
       "    .dataframe tbody tr th:only-of-type {\n",
       "        vertical-align: middle;\n",
       "    }\n",
       "\n",
       "    .dataframe tbody tr th {\n",
       "        vertical-align: top;\n",
       "    }\n",
       "\n",
       "    .dataframe thead th {\n",
       "        text-align: right;\n",
       "    }\n",
       "</style>\n",
       "<table border=\"1\" class=\"dataframe\">\n",
       "  <thead>\n",
       "    <tr style=\"text-align: right;\">\n",
       "      <th></th>\n",
       "      <th>choice_0</th>\n",
       "      <th>choice_1</th>\n",
       "      <th>choice_2</th>\n",
       "      <th>choice_3</th>\n",
       "      <th>choice_4</th>\n",
       "      <th>choice_5</th>\n",
       "      <th>choice_6</th>\n",
       "      <th>choice_7</th>\n",
       "      <th>choice_8</th>\n",
       "      <th>choice_9</th>\n",
       "      <th>n_people</th>\n",
       "    </tr>\n",
       "    <tr>\n",
       "      <th>family_id</th>\n",
       "      <th></th>\n",
       "      <th></th>\n",
       "      <th></th>\n",
       "      <th></th>\n",
       "      <th></th>\n",
       "      <th></th>\n",
       "      <th></th>\n",
       "      <th></th>\n",
       "      <th></th>\n",
       "      <th></th>\n",
       "      <th></th>\n",
       "    </tr>\n",
       "  </thead>\n",
       "  <tbody>\n",
       "    <tr>\n",
       "      <th>0</th>\n",
       "      <td>52</td>\n",
       "      <td>38</td>\n",
       "      <td>12</td>\n",
       "      <td>82</td>\n",
       "      <td>33</td>\n",
       "      <td>75</td>\n",
       "      <td>64</td>\n",
       "      <td>76</td>\n",
       "      <td>10</td>\n",
       "      <td>28</td>\n",
       "      <td>4</td>\n",
       "    </tr>\n",
       "    <tr>\n",
       "      <th>1</th>\n",
       "      <td>26</td>\n",
       "      <td>4</td>\n",
       "      <td>82</td>\n",
       "      <td>5</td>\n",
       "      <td>11</td>\n",
       "      <td>47</td>\n",
       "      <td>38</td>\n",
       "      <td>6</td>\n",
       "      <td>66</td>\n",
       "      <td>61</td>\n",
       "      <td>4</td>\n",
       "    </tr>\n",
       "    <tr>\n",
       "      <th>2</th>\n",
       "      <td>100</td>\n",
       "      <td>54</td>\n",
       "      <td>25</td>\n",
       "      <td>12</td>\n",
       "      <td>27</td>\n",
       "      <td>82</td>\n",
       "      <td>10</td>\n",
       "      <td>89</td>\n",
       "      <td>80</td>\n",
       "      <td>33</td>\n",
       "      <td>3</td>\n",
       "    </tr>\n",
       "    <tr>\n",
       "      <th>3</th>\n",
       "      <td>2</td>\n",
       "      <td>95</td>\n",
       "      <td>1</td>\n",
       "      <td>96</td>\n",
       "      <td>32</td>\n",
       "      <td>6</td>\n",
       "      <td>40</td>\n",
       "      <td>31</td>\n",
       "      <td>9</td>\n",
       "      <td>59</td>\n",
       "      <td>2</td>\n",
       "    </tr>\n",
       "    <tr>\n",
       "      <th>4</th>\n",
       "      <td>53</td>\n",
       "      <td>1</td>\n",
       "      <td>47</td>\n",
       "      <td>93</td>\n",
       "      <td>26</td>\n",
       "      <td>3</td>\n",
       "      <td>46</td>\n",
       "      <td>16</td>\n",
       "      <td>42</td>\n",
       "      <td>39</td>\n",
       "      <td>4</td>\n",
       "    </tr>\n",
       "  </tbody>\n",
       "</table>\n",
       "</div>"
      ],
      "text/plain": [
       "           choice_0  choice_1  choice_2  choice_3  choice_4  choice_5  \\\n",
       "family_id                                                               \n",
       "0                52        38        12        82        33        75   \n",
       "1                26         4        82         5        11        47   \n",
       "2               100        54        25        12        27        82   \n",
       "3                 2        95         1        96        32         6   \n",
       "4                53         1        47        93        26         3   \n",
       "\n",
       "           choice_6  choice_7  choice_8  choice_9  n_people  \n",
       "family_id                                                    \n",
       "0                64        76        10        28         4  \n",
       "1                38         6        66        61         4  \n",
       "2                10        89        80        33         3  \n",
       "3                40        31         9        59         2  \n",
       "4                46        16        42        39         4  "
      ]
     },
     "execution_count": 35,
     "metadata": {},
     "output_type": "execute_result"
    }
   ],
   "source": [
    "data.head()"
   ]
  },
  {
   "cell_type": "markdown",
   "metadata": {},
   "source": [
    "Let's arrange the data to see if there are any patterns with the families.\n",
    "* What are the most popular days?\n",
    "\n",
    "Manipulate the data to see how many of choice 0, 1, etc. there are for each day. 100 rows for each day and one column for each choice."
   ]
  },
  {
   "cell_type": "code",
   "execution_count": 167,
   "metadata": {},
   "outputs": [
    {
     "data": {
      "text/plain": [
       "choice_0\n",
       "1      1576\n",
       "2       202\n",
       "3       412\n",
       "4       379\n",
       "5       358\n",
       "       ... \n",
       "96      294\n",
       "97       45\n",
       "98       56\n",
       "99       57\n",
       "100      43\n",
       "Name: n_people, Length: 100, dtype: int64"
      ]
     },
     "execution_count": 167,
     "metadata": {},
     "output_type": "execute_result"
    }
   ],
   "source": []
  },
  {
   "cell_type": "code",
   "execution_count": 176,
   "metadata": {},
   "outputs": [
    {
     "data": {
      "text/html": [
       "<div>\n",
       "<style scoped>\n",
       "    .dataframe tbody tr th:only-of-type {\n",
       "        vertical-align: middle;\n",
       "    }\n",
       "\n",
       "    .dataframe tbody tr th {\n",
       "        vertical-align: top;\n",
       "    }\n",
       "\n",
       "    .dataframe thead th {\n",
       "        text-align: right;\n",
       "    }\n",
       "</style>\n",
       "<table border=\"1\" class=\"dataframe\">\n",
       "  <thead>\n",
       "    <tr style=\"text-align: right;\">\n",
       "      <th></th>\n",
       "      <th>choice_0</th>\n",
       "      <th>choice_1</th>\n",
       "      <th>choice_2</th>\n",
       "      <th>choice_3</th>\n",
       "      <th>choice_4</th>\n",
       "      <th>choice_5</th>\n",
       "      <th>choice_6</th>\n",
       "      <th>choice_7</th>\n",
       "      <th>choice_8</th>\n",
       "      <th>choice_9</th>\n",
       "    </tr>\n",
       "    <tr>\n",
       "      <th>choice_0</th>\n",
       "      <th></th>\n",
       "      <th></th>\n",
       "      <th></th>\n",
       "      <th></th>\n",
       "      <th></th>\n",
       "      <th></th>\n",
       "      <th></th>\n",
       "      <th></th>\n",
       "      <th></th>\n",
       "      <th></th>\n",
       "    </tr>\n",
       "  </thead>\n",
       "  <tbody>\n",
       "    <tr>\n",
       "      <th>1</th>\n",
       "      <td>1576</td>\n",
       "      <td>1478</td>\n",
       "      <td>1337</td>\n",
       "      <td>1271</td>\n",
       "      <td>1147</td>\n",
       "      <td>1029</td>\n",
       "      <td>1002</td>\n",
       "      <td>1053</td>\n",
       "      <td>830</td>\n",
       "      <td>845</td>\n",
       "    </tr>\n",
       "    <tr>\n",
       "      <th>2</th>\n",
       "      <td>202</td>\n",
       "      <td>131</td>\n",
       "      <td>168</td>\n",
       "      <td>212</td>\n",
       "      <td>214</td>\n",
       "      <td>182</td>\n",
       "      <td>121</td>\n",
       "      <td>201</td>\n",
       "      <td>217</td>\n",
       "      <td>158</td>\n",
       "    </tr>\n",
       "    <tr>\n",
       "      <th>3</th>\n",
       "      <td>412</td>\n",
       "      <td>285</td>\n",
       "      <td>324</td>\n",
       "      <td>300</td>\n",
       "      <td>402</td>\n",
       "      <td>409</td>\n",
       "      <td>415</td>\n",
       "      <td>357</td>\n",
       "      <td>393</td>\n",
       "      <td>310</td>\n",
       "    </tr>\n",
       "    <tr>\n",
       "      <th>4</th>\n",
       "      <td>379</td>\n",
       "      <td>400</td>\n",
       "      <td>369</td>\n",
       "      <td>365</td>\n",
       "      <td>368</td>\n",
       "      <td>375</td>\n",
       "      <td>477</td>\n",
       "      <td>345</td>\n",
       "      <td>437</td>\n",
       "      <td>357</td>\n",
       "    </tr>\n",
       "    <tr>\n",
       "      <th>5</th>\n",
       "      <td>358</td>\n",
       "      <td>445</td>\n",
       "      <td>378</td>\n",
       "      <td>385</td>\n",
       "      <td>365</td>\n",
       "      <td>393</td>\n",
       "      <td>401</td>\n",
       "      <td>378</td>\n",
       "      <td>377</td>\n",
       "      <td>427</td>\n",
       "    </tr>\n",
       "  </tbody>\n",
       "</table>\n",
       "</div>"
      ],
      "text/plain": [
       "          choice_0  choice_1  choice_2  choice_3  choice_4  choice_5  \\\n",
       "choice_0                                                               \n",
       "1             1576      1478      1337      1271      1147      1029   \n",
       "2              202       131       168       212       214       182   \n",
       "3              412       285       324       300       402       409   \n",
       "4              379       400       369       365       368       375   \n",
       "5              358       445       378       385       365       393   \n",
       "\n",
       "          choice_6  choice_7  choice_8  choice_9  \n",
       "choice_0                                          \n",
       "1             1002      1053       830       845  \n",
       "2              121       201       217       158  \n",
       "3              415       357       393       310  \n",
       "4              477       345       437       357  \n",
       "5              401       378       377       427  "
      ]
     },
     "execution_count": 176,
     "metadata": {},
     "output_type": "execute_result"
    }
   ],
   "source": [
    "days = pd.DataFrame()\n",
    "for i in range(0, 10):\n",
    "    days = pd.merge(days,\n",
    "             data.groupby('choice_{}'.format(i)).n_people.sum() \\\n",
    "                .rename('choice_{}'.format(i)),\n",
    "             how='outer',\n",
    "             left_index=True, right_index=True)\n",
    "days = days.sort_index()\n",
    "days.head()"
   ]
  },
  {
   "cell_type": "code",
   "execution_count": 177,
   "metadata": {},
   "outputs": [
    {
     "data": {
      "text/plain": [
       "count      100.000000\n",
       "mean      2100.300000\n",
       "std       1511.731869\n",
       "min        481.000000\n",
       "25%       1067.500000\n",
       "50%       1713.000000\n",
       "75%       3261.750000\n",
       "max      11568.000000\n",
       "dtype: float64"
      ]
     },
     "execution_count": 177,
     "metadata": {},
     "output_type": "execute_result"
    }
   ],
   "source": [
    "days.sum(axis=1).describe()"
   ]
  },
  {
   "cell_type": "code",
   "execution_count": 178,
   "metadata": {},
   "outputs": [
    {
     "data": {
      "text/plain": [
       "<matplotlib.axes._subplots.AxesSubplot at 0x1a27e5f4e0>"
      ]
     },
     "execution_count": 178,
     "metadata": {},
     "output_type": "execute_result"
    },
    {
     "data": {
      "image/png": "[encoded data removed]",
      "text/plain": [
       "<Figure size 720x504 with 1 Axes>"
      ]
     },
     "metadata": {
      "needs_background": "light"
     },
     "output_type": "display_data"
    },
    {
     "data": {
      "image/png": "[encoded data removed]",
      "text/plain": [
       "<Figure size 720x504 with 1 Axes>"
      ]
     },
     "metadata": {
      "needs_background": "light"
     },
     "output_type": "display_data"
    }
   ],
   "source": [
    "days[['choice_' + str(i) for i in range(0,10)]].head(50) \\\n",
    "    .plot.bar(stacked=True, color=colors, figsize=(10,7), width=1)\n",
    "days[['choice_' + str(i) for i in range(0,10)]].tail(50) \\\n",
    "    .plot.bar(stacked=True, color=colors, figsize=(10,7), width=1)"
   ]
  },
  {
   "cell_type": "markdown",
   "metadata": {},
   "source": [
    "A few interesting points from this one:\n",
    "* the day before Christmas is very popular, almost 4x the avg.\n",
    "* there's a repeating weekly pattern of 3 popular days and then 4 off days, something resembling a weekend\n",
    "* there's a sharp drop-off on day 29->30, this is 30 days from Christmas. It's not really anything significant though, December starts on day 24. We see a similar drop at day 60.\n",
    "* there's a general trend decreasing away from day 1\n",
    "* every day has at least 125 participants, the minimum required, while all non-off days have at least 125 with the first choice for that day.\n",
    "\n",
    "Looking at this, there are a few things that jump out, we should assign families who want to come earlier, e.g. day 100, or those who want to come on weekdays, first. We can fill up these less popular days."
   ]
  },
  {
   "cell_type": "markdown",
   "metadata": {},
   "source": [
    "Can think of this as filling days with families, or assigning days to families.\n",
    "\n",
    "First basic algorithm to appreach with, would be Backtrack. We can treat this as a CSP."
   ]
  },
  {
   "cell_type": "code",
   "execution_count": 46,
   "metadata": {},
   "outputs": [],
   "source": [
    "from constraint import *"
   ]
  },
  {
   "cell_type": "code",
   "execution_count": 128,
   "metadata": {},
   "outputs": [
    {
     "data": {
      "text/plain": [
       "0"
      ]
     },
     "execution_count": 128,
     "metadata": {},
     "output_type": "execute_result"
    }
   ],
   "source": [
    "day = 1\n",
    "csp.query('assignment == @day').n_people.sum()"
   ]
  },
  {
   "cell_type": "code",
   "execution_count": 211,
   "metadata": {},
   "outputs": [],
   "source": [
    "import sys\n",
    "sys.getrecursionlimit()  # 3000\n",
    "sys.setrecursionlimit(5000)"
   ]
  },
  {
   "cell_type": "code",
   "execution_count": 212,
   "metadata": {},
   "outputs": [
    {
     "data": {
      "image/png": "[encoded data removed]",
      "text/plain": [
       "<Figure size 432x288 with 1 Axes>"
      ]
     },
     "metadata": {
      "needs_background": "light"
     },
     "output_type": "display_data"
    }
   ],
   "source": [
    "# For each family, choose the one that has the maximum cost difference or variance?\n",
    "# If there is a problem, backtrack \n",
    "from collections import Counter\n",
    "\n",
    "def choose_family(csp):\n",
    "    # Choose the first family\n",
    "    family_id = csp[csp.assignment.apply(lambda x: x is None)].iloc[0].name\n",
    "    return family_id\n",
    "\n",
    "def backtrack(assignment, csp):\n",
    "    max_per_day = 300\n",
    "    # print('csp is', csp)\n",
    "    # print('number assigned is', csp.assignment.count())\n",
    "    if csp.assignment.count() == csp.shape[0]:\n",
    "        return csp\n",
    "    family_id = choose_family(csp)\n",
    "    # print('family id is', family_id)\n",
    "    # Check each possible seat\n",
    "    # print('days are', csp.loc[family_id].values.tolist()[:-1])\n",
    "    for day in csp.loc[family_id].values.tolist()[:-1]:\n",
    "        day_count = csp.query('assignment == @day').n_people.sum()\n",
    "        if day_count + csp.loc[family_id].n_people <= max_per_day:\n",
    "                # print(family_id, day)\n",
    "                csp.loc[family_id, 'assignment'] = day\n",
    "                result = backtrack(assignment, csp)\n",
    "                if type(result) == type(pd.DataFrame()):\n",
    "                    return result\n",
    "    return 'failure'\n",
    "    \n",
    "\n",
    "assignment = {}\n",
    "csp = data.head(5000).copy(deep=True)\n",
    "csp['assignment'] = None\n",
    "\n",
    "answer = backtrack(assignment, csp)\n",
    "# print(answer)\n",
    "# print(Counter(answer.values()))\n",
    "\n",
    "def handle_mins(csp):\n",
    "    min_per_day = 10 #25\n",
    "    # find the people who can move to that day, find the most happy with the new date\n",
    "    day_counts = csp.groupby('assignment').n_people.sum()\n",
    "    days = list(day_counts[day_counts<min_per_day].index)\n",
    "    # print(days)\n",
    "    for day in days:\n",
    "        # print('day {}'.format(day))\n",
    "        # Find someone\n",
    "        for choice in range(0, 10):\n",
    "            possible_families = csp[(csp['choice_{}'.format(choice)]==day)& \\\n",
    "                (csp.assignment.apply(lambda x: x not in days))].index.tolist()\n",
    "            # print('families ',possible_families)\n",
    "            for f in possible_families:\n",
    "                if csp.query('assignment == @day').n_people.sum() < min_per_day:\n",
    "                    csp.loc[f, 'assignment'] = day\n",
    "                    # print(f, day)\n",
    "                    # print('total assigned now', csp.query('assignment == @day').n_people.sum())\n",
    "                    # result = handle_mins(csp)\n",
    "                    # return result\n",
    "    return csp    \n",
    "\n",
    "# print_solution(answer)\n",
    "\n",
    "# answer = handle_mins(answer)\n",
    "\n",
    "\n",
    "def print_solution(answer):\n",
    "    lists = answer.groupby('assignment').n_people.sum().to_dict().items() # sorted by key, return a list of tuples\n",
    "    x, y = zip(*lists) # unpack a list of pairs into two tuples\n",
    "    plt.plot(x, y)\n",
    "    plt.show()\n",
    "    \n",
    "print_solution(answer)"
   ]
  },
  {
   "cell_type": "code",
   "execution_count": null,
   "metadata": {},
   "outputs": [],
   "source": []
  }
 ],
 "metadata": {
  "kernelspec": {
   "display_name": "Python 3",
   "language": "python",
   "name": "python3"
  },
  "language_info": {
   "codemirror_mode": {
    "name": "ipython",
    "version": 3
   },
   "file_extension": ".py",
   "mimetype": "text/x-python",
   "name": "python",
   "nbconvert_exporter": "python",
   "pygments_lexer": "ipython3",
   "version": "3.6.9"
  }
 },
 "nbformat": 4,
 "nbformat_minor": 4
}
